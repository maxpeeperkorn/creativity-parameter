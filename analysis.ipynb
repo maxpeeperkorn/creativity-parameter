version https://git-lfs.github.com/spec/v1
oid sha256:1e24eefab545ee504d24e7e106c4d0ff0f22a3c61c3fed56914d44aa2ae9b70b
size 30891
