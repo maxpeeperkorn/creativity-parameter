version https://git-lfs.github.com/spec/v1
oid sha256:5a4f83cab0fa63ce583ff7cedb57449a5b29fb720535d8d57b773cfcb204b4fb
size 202667
